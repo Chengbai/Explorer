{
 "cells": [
  {
   "cell_type": "code",
   "execution_count": 313,
   "metadata": {},
   "outputs": [],
   "source": [
    "import numpy as np\n",
    "from pathlib import Path\n",
    "from IPython.display import display\n",
    "from PIL import Image\n",
    "from matplotlib import pyplot as plt\n",
    "%matplotlib inline"
   ]
  },
  {
   "cell_type": "markdown",
   "metadata": {},
   "source": [
    "# MNIST dataset\n",
    "\n",
    "- **The MNIST database of handwritten digits**\n",
    "    http://yann.lecun.com/exdb/mnist/\n",
    "\n",
    "- **TRAINING SET IMAGE FILE (train-images-idx3-ubyte)**\n",
    "\n",
    ">`\n",
    "[offset] [type]          [value]          [description]\n",
    "0000     32 bit integer  0x00000803(2051) magic number\n",
    "0004     32 bit integer  60000            number of images\n",
    "0008     32 bit integer  28               number of rows\n",
    "0012     32 bit integer  28               number of columns\n",
    "0016     unsigned byte   ??               pixel\n",
    "0017     unsigned byte   ??               pixel\n",
    "........\n",
    "xxxx     unsigned byte   ??               pixel\n",
    "Pixels are organized row-wise. Pixel values are 0 to 255. 0 means background (white), 255 means foreground (black).\n",
    "`\n",
    "\n",
    "- **TRAINING SET LABEL FILE (train-labels-idx1-ubyte)**\n",
    "\n",
    ">`\n",
    "[offset] [type]          [value]          [description]\n",
    "0000     32 bit integer  0x00000801(2049) magic number (MSB first)\n",
    "0004     32 bit integer  60000            number of items\n",
    "0008     unsigned byte   ??               label\n",
    "0009     unsigned byte   ??               label\n",
    "........\n",
    "xxxx     unsigned byte   ??               label\n",
    "The labels values are 0 to 9.\n",
    "`"
   ]
  },
  {
   "cell_type": "code",
   "execution_count": 31,
   "metadata": {
    "scrolled": true
   },
   "outputs": [
    {
     "name": "stdout",
     "output_type": "stream",
     "text": [
      "--2021-01-01 19:47:09--  http://yann.lecun.com/exdb/mnist/train-images-idx3-ubyte.gz\n",
      "Resolving yann.lecun.com (yann.lecun.com)... 104.28.7.204, 104.28.6.204, 172.67.171.76, ...\n",
      "Connecting to yann.lecun.com (yann.lecun.com)|104.28.7.204|:80... connected.\n",
      "HTTP request sent, awaiting response... 200 OK\n",
      "Length: 9912422 (9.5M) [application/x-gzip]\n",
      "Saving to: ‘train-images-idx3-ubyte.gz’\n",
      "\n",
      "train-images-idx3-u 100%[===================>]   9.45M  7.95MB/s    in 1.2s    \n",
      "\n",
      "2021-01-01 19:47:10 (7.95 MB/s) - ‘train-images-idx3-ubyte.gz’ saved [9912422/9912422]\n",
      "\n",
      "--2021-01-01 19:47:10--  http://yann.lecun.com/exdb/mnist/train-labels-idx1-ubyte.gz\n",
      "Resolving yann.lecun.com (yann.lecun.com)... 104.28.6.204, 104.28.7.204, 172.67.171.76, ...\n",
      "Connecting to yann.lecun.com (yann.lecun.com)|104.28.6.204|:80... connected.\n",
      "HTTP request sent, awaiting response... 200 OK\n",
      "Length: 28881 (28K) [application/x-gzip]\n",
      "Saving to: ‘train-labels-idx1-ubyte.gz’\n",
      "\n",
      "train-labels-idx1-u 100%[===================>]  28.20K  --.-KB/s    in 0.08s   \n",
      "\n",
      "2021-01-01 19:47:11 (375 KB/s) - ‘train-labels-idx1-ubyte.gz’ saved [28881/28881]\n",
      "\n",
      "--2021-01-01 19:47:11--  http://yann.lecun.com/exdb/mnist/t10k-images-idx3-ubyte.gz\n",
      "Resolving yann.lecun.com (yann.lecun.com)... 104.28.7.204, 104.28.6.204, 172.67.171.76, ...\n",
      "Connecting to yann.lecun.com (yann.lecun.com)|104.28.7.204|:80... connected.\n",
      "HTTP request sent, awaiting response... 200 OK\n",
      "Length: 1648877 (1.6M) [application/x-gzip]\n",
      "Saving to: ‘t10k-images-idx3-ubyte.gz’\n",
      "\n",
      "t10k-images-idx3-ub 100%[===================>]   1.57M  1.34MB/s    in 1.2s    \n",
      "\n",
      "2021-01-01 19:47:12 (1.34 MB/s) - ‘t10k-images-idx3-ubyte.gz’ saved [1648877/1648877]\n",
      "\n",
      "--2021-01-01 19:47:12--  http://yann.lecun.com/exdb/mnist/t10k-labels-idx1-ubyte.gz\n",
      "Resolving yann.lecun.com (yann.lecun.com)... 104.28.7.204, 104.28.6.204, 172.67.171.76, ...\n",
      "Connecting to yann.lecun.com (yann.lecun.com)|104.28.7.204|:80... connected.\n",
      "HTTP request sent, awaiting response... 200 OK\n",
      "Length: 4542 (4.4K) [application/x-gzip]\n",
      "Saving to: ‘t10k-labels-idx1-ubyte.gz’\n",
      "\n",
      "t10k-labels-idx1-ub 100%[===================>]   4.44K  --.-KB/s    in 0s      \n",
      "\n",
      "2021-01-01 19:47:13 (124 MB/s) - ‘t10k-labels-idx1-ubyte.gz’ saved [4542/4542]\n",
      "\n"
     ]
    }
   ],
   "source": [
    "train_img_gz_url = 'http://yann.lecun.com/exdb/mnist/train-images-idx3-ubyte.gz'\n",
    "train_label_gz_url = 'http://yann.lecun.com/exdb/mnist/train-labels-idx1-ubyte.gz'\n",
    "\n",
    "test_img_gz_url = 'http://yann.lecun.com/exdb/mnist/t10k-images-idx3-ubyte.gz'\n",
    "test_label_gz_url = 'http://yann.lecun.com/exdb/mnist/t10k-labels-idx1-ubyte.gz'\n",
    "\n",
    "gz_urls = [train_img_gz_url, train_label_gz_url,\n",
    "           test_img_gz_url, test_label_gz_url]\n",
    "for url in gz_urls:\n",
    "    url_path = Path(url)\n",
    "    if not Path(url_path.name).exists():\n",
    "        !wget $url\n",
    "        \n",
    "gz_local_files = [Path(url).name for url in gz_urls]\n",
    "for gz_file in gz_local_files:\n",
    "    !gzip -dr $gz_file \n"
   ]
  },
  {
   "cell_type": "code",
   "execution_count": 25,
   "metadata": {},
   "outputs": [
    {
     "data": {
      "text/plain": [
       "['train-images-idx3-ubyte.gz',\n",
       " 'train-labels-idx1-ubyte.gz',\n",
       " 't10k-images-idx3-ubyte.gz',\n",
       " 't10k-labels-idx1-ubyte.gz']"
      ]
     },
     "execution_count": 25,
     "metadata": {},
     "output_type": "execute_result"
    }
   ],
   "source": [
    "gz_local_files"
   ]
  },
  {
   "cell_type": "code",
   "execution_count": 165,
   "metadata": {},
   "outputs": [],
   "source": [
    "import struct\n",
    "def read_mnist_images(file):\n",
    "\n",
    "    with open(file, 'rb') as f:\n",
    "        content = f.read()\n",
    "        magic, img_count, rows, cols = struct.unpack('>iiii', content[0:16])\n",
    "        pixels = np.frombuffer(content[16:], dtype=np.uint8).copy()\n",
    "        imgs = pixels.reshape((-1, 1, rows, cols))\n",
    "        \n",
    "    return imgs\n",
    "\n",
    "def read_labels(file):\n",
    "    with open(file, 'rb') as f:\n",
    "        content = f.read()\n",
    "        magic, count = struct.unpack('>ii', content[:8])\n",
    "        labels = np.frombuffer(content[8:], dtype=np.uint8)\n",
    "        \n",
    "        return labels"
   ]
  },
  {
   "cell_type": "code",
   "execution_count": 166,
   "metadata": {
    "scrolled": true
   },
   "outputs": [
    {
     "data": {
      "text/plain": [
       "((60000, 1, 28, 28), (60000,))"
      ]
     },
     "execution_count": 166,
     "metadata": {},
     "output_type": "execute_result"
    }
   ],
   "source": [
    "train_imgs = read_mnist_images('train-images-idx3-ubyte')\n",
    "train_labels = read_labels('train-labels-idx1-ubyte')\n",
    "\n",
    "train_imgs.shape, train_labels.shape"
   ]
  },
  {
   "cell_type": "code",
   "execution_count": 167,
   "metadata": {},
   "outputs": [
    {
     "data": {
      "text/plain": [
       "((10000, 1, 28, 28), (10000,))"
      ]
     },
     "execution_count": 167,
     "metadata": {},
     "output_type": "execute_result"
    }
   ],
   "source": [
    "test_imgs = read_mnist_images('t10k-images-idx3-ubyte')\n",
    "test_labels = read_labels('t10k-labels-idx1-ubyte')\n",
    "\n",
    "test_imgs.shape, test_labels.shape"
   ]
  },
  {
   "cell_type": "code",
   "execution_count": 269,
   "metadata": {},
   "outputs": [
    {
     "data": {
      "text/plain": [
       "array([[  0,   0,   0,   0,   0,   0,   0,   0,   0,   0,   0,   0,   0,\n",
       "          0,   0,   0,   0,   0,   0,   0,   0,   0,   0,   0,   0,   0,\n",
       "          0,   0],\n",
       "       [  0,   0,   0,   0,   0,   0,   0,   0,   0,   0,   0,   0,   0,\n",
       "          0,   0,   0,   0,   0,   0,   0,   0,   0,   0,   0,   0,   0,\n",
       "          0,   0],\n",
       "       [  0,   0,   0,   0,   0,   0,   0,   0,   0,   0,   0,   0,   0,\n",
       "          0,   0,   0,   0,   0,   0,   0,   0,   0,   0,   0,   0,   0,\n",
       "          0,   0],\n",
       "       [  0,   0,   0,   0,   0,   0,   0,   0,   0,   0,   0,   0,   0,\n",
       "          0,   0,   0,   0,   0,   0,   0,   0,   0,   0,   0,   0,   0,\n",
       "          0,   0],\n",
       "       [  0,   0,   0,   0,   0,   0,   0,   0,   0,   0,   0,   0,   0,\n",
       "          0,   0,   0,   0,   0,   0,   0,   0,   0,   0,   0,   0,   0,\n",
       "          0,   0],\n",
       "       [  0,   0,   0,   0,   0,   0,   0,   0,   0,   0,   0,   0,   3,\n",
       "         18,  18,  18, 126, 136, 175,  26, 166, 255, 247, 127,   0,   0,\n",
       "          0,   0],\n",
       "       [  0,   0,   0,   0,   0,   0,   0,   0,  30,  36,  94, 154, 170,\n",
       "        253, 253, 253, 253, 253, 225, 172, 253, 242, 195,  64,   0,   0,\n",
       "          0,   0],\n",
       "       [  0,   0,   0,   0,   0,   0,   0,  49, 238, 253, 253, 253, 253,\n",
       "        253, 253, 253, 253, 251,  93,  82,  82,  56,  39,   0,   0,   0,\n",
       "          0,   0],\n",
       "       [  0,   0,   0,   0,   0,   0,   0,  18, 219, 253, 253, 253, 253,\n",
       "        253, 198, 182, 247, 241,   0,   0,   0,   0,   0,   0,   0,   0,\n",
       "          0,   0],\n",
       "       [  0,   0,   0,   0,   0,   0,   0,   0,  80, 156, 107, 253, 253,\n",
       "        205,  11,   0,  43, 154,   0,   0,   0,   0,   0,   0,   0,   0,\n",
       "          0,   0],\n",
       "       [  0,   0,   0,   0,   0,   0,   0,   0,   0,  14,   1, 154, 253,\n",
       "         90,   0,   0,   0,   0,   0,   0,   0,   0,   0,   0,   0,   0,\n",
       "          0,   0],\n",
       "       [  0,   0,   0,   0,   0,   0,   0,   0,   0,   0,   0, 139, 253,\n",
       "        190,   2,   0,   0,   0,   0,   0,   0,   0,   0,   0,   0,   0,\n",
       "          0,   0],\n",
       "       [  0,   0,   0,   0,   0,   0,   0,   0,   0,   0,   0,  11, 190,\n",
       "        253,  70,   0,   0,   0,   0,   0,   0,   0,   0,   0,   0,   0,\n",
       "          0,   0],\n",
       "       [  0,   0,   0,   0,   0,   0,   0,   0,   0,   0,   0,   0,  35,\n",
       "        241, 225, 160, 108,   1,   0,   0,   0,   0,   0,   0,   0,   0,\n",
       "          0,   0],\n",
       "       [  0,   0,   0,   0,   0,   0,   0,   0,   0,   0,   0,   0,   0,\n",
       "         81, 240, 253, 253, 119,  25,   0,   0,   0,   0,   0,   0,   0,\n",
       "          0,   0],\n",
       "       [  0,   0,   0,   0,   0,   0,   0,   0,   0,   0,   0,   0,   0,\n",
       "          0,  45, 186, 253, 253, 150,  27,   0,   0,   0,   0,   0,   0,\n",
       "          0,   0],\n",
       "       [  0,   0,   0,   0,   0,   0,   0,   0,   0,   0,   0,   0,   0,\n",
       "          0,   0,  16,  93, 252, 253, 187,   0,   0,   0,   0,   0,   0,\n",
       "          0,   0],\n",
       "       [  0,   0,   0,   0,   0,   0,   0,   0,   0,   0,   0,   0,   0,\n",
       "          0,   0,   0,   0, 249, 253, 249,  64,   0,   0,   0,   0,   0,\n",
       "          0,   0],\n",
       "       [  0,   0,   0,   0,   0,   0,   0,   0,   0,   0,   0,   0,   0,\n",
       "          0,  46, 130, 183, 253, 253, 207,   2,   0,   0,   0,   0,   0,\n",
       "          0,   0],\n",
       "       [  0,   0,   0,   0,   0,   0,   0,   0,   0,   0,   0,   0,  39,\n",
       "        148, 229, 253, 253, 253, 250, 182,   0,   0,   0,   0,   0,   0,\n",
       "          0,   0],\n",
       "       [  0,   0,   0,   0,   0,   0,   0,   0,   0,   0,  24, 114, 221,\n",
       "        253, 253, 253, 253, 201,  78,   0,   0,   0,   0,   0,   0,   0,\n",
       "          0,   0],\n",
       "       [  0,   0,   0,   0,   0,   0,   0,   0,  23,  66, 213, 253, 253,\n",
       "        253, 253, 198,  81,   2,   0,   0,   0,   0,   0,   0,   0,   0,\n",
       "          0,   0],\n",
       "       [  0,   0,   0,   0,   0,   0,  18, 171, 219, 253, 253, 253, 253,\n",
       "        195,  80,   9,   0,   0,   0,   0,   0,   0,   0,   0,   0,   0,\n",
       "          0,   0],\n",
       "       [  0,   0,   0,   0,  55, 172, 226, 253, 253, 253, 253, 244, 133,\n",
       "         11,   0,   0,   0,   0,   0,   0,   0,   0,   0,   0,   0,   0,\n",
       "          0,   0],\n",
       "       [  0,   0,   0,   0, 136, 253, 253, 253, 212, 135, 132,  16,   0,\n",
       "          0,   0,   0,   0,   0,   0,   0,   0,   0,   0,   0,   0,   0,\n",
       "          0,   0],\n",
       "       [  0,   0,   0,   0,   0,   0,   0,   0,   0,   0,   0,   0,   0,\n",
       "          0,   0,   0,   0,   0,   0,   0,   0,   0,   0,   0,   0,   0,\n",
       "          0,   0],\n",
       "       [  0,   0,   0,   0,   0,   0,   0,   0,   0,   0,   0,   0,   0,\n",
       "          0,   0,   0,   0,   0,   0,   0,   0,   0,   0,   0,   0,   0,\n",
       "          0,   0],\n",
       "       [  0,   0,   0,   0,   0,   0,   0,   0,   0,   0,   0,   0,   0,\n",
       "          0,   0,   0,   0,   0,   0,   0,   0,   0,   0,   0,   0,   0,\n",
       "          0,   0]], dtype=uint8)"
      ]
     },
     "execution_count": 269,
     "metadata": {},
     "output_type": "execute_result"
    }
   ],
   "source": [
    "train_imgs[0][0]"
   ]
  },
  {
   "cell_type": "code",
   "execution_count": 169,
   "metadata": {},
   "outputs": [
    {
     "data": {
      "image/png": "[encoded data removed]",
      "text/plain": [
       "<PIL.Image.Image image mode=L size=28x28 at 0x7FD3F12F5340>"
      ]
     },
     "metadata": {},
     "output_type": "display_data"
    },
    {
     "data": {
      "text/plain": [
       "(None, 5)"
      ]
     },
     "execution_count": 169,
     "metadata": {},
     "output_type": "execute_result"
    }
   ],
   "source": [
    "display(Image.fromarray(train_imgs[0][0])), train_labels[0]"
   ]
  },
  {
   "cell_type": "code",
   "execution_count": 170,
   "metadata": {},
   "outputs": [
    {
     "data": {
      "image/png": "[encoded data removed]",
      "text/plain": [
       "<PIL.Image.Image image mode=L size=28x28 at 0x7FD3F1367160>"
      ]
     },
     "metadata": {},
     "output_type": "display_data"
    },
    {
     "data": {
      "text/plain": [
       "(None, 7)"
      ]
     },
     "execution_count": 170,
     "metadata": {},
     "output_type": "execute_result"
    }
   ],
   "source": [
    "display(Image.fromarray(test_imgs[0][0])), test_labels[0]"
   ]
  },
  {
   "cell_type": "markdown",
   "metadata": {},
   "source": [
    "# Dataset"
   ]
  },
  {
   "cell_type": "code",
   "execution_count": 294,
   "metadata": {},
   "outputs": [],
   "source": [
    "class ChengDataset(torch.utils.data.Dataset):\n",
    "    def __init__(self, imgs, labels):\n",
    "        super(ChengDataset, self).__init__()\n",
    "        self._imgs = imgs\n",
    "        self._labels = labels\n",
    "        \n",
    "    def __len__(self):\n",
    "        return len(self._imgs)\n",
    "    \n",
    "    def __getitem__(self, index):\n",
    "        img = torch.tensor(self._imgs[index]).float()\n",
    "        label = torch.tensor(self._labels[index]).long()\n",
    "        return img, label"
   ]
  },
  {
   "cell_type": "code",
   "execution_count": 351,
   "metadata": {},
   "outputs": [],
   "source": [
    "# data\n",
    "BATCH_SIZE = 32\n",
    "train_dataset = ChengDataset(train_imgs, train_labels)\n",
    "train_dataloader = torch.utils.data.DataLoader(dataset=train_dataset, \n",
    "                                               batch_size=BATCH_SIZE, \n",
    "                                               shuffle=True)\n",
    "\n",
    "test_dataset = ChengDataset(test_imgs, test_labels)\n",
    "test_dataloader = torch.utils.data.DataLoader(dataset=test_dataset, \n",
    "                                               batch_size=BATCH_SIZE, \n",
    "                                               shuffle=True)\n"
   ]
  },
  {
   "cell_type": "markdown",
   "metadata": {},
   "source": [
    "# Models"
   ]
  },
  {
   "cell_type": "code",
   "execution_count": 278,
   "metadata": {},
   "outputs": [],
   "source": [
    "import torch\n",
    "import torch.nn as nn\n",
    "import torch.nn.functional as F"
   ]
  },
  {
   "cell_type": "code",
   "execution_count": 352,
   "metadata": {},
   "outputs": [],
   "source": [
    "def train(model, train_dataloader, epoches, optimizer, loss_func,):\n",
    "    train_losses = []\n",
    "    for i in range(epoches):\n",
    "        model.train()\n",
    "        for batch_index, batch in enumerate(train_dataloader):\n",
    "            batch_imgs, batch_labels = batch[0], batch[1]\n",
    "            batch_preds = model(batch_imgs)\n",
    "            loss = loss_func(batch_preds, batch_labels)\n",
    "            optimizer.zero_grad()\n",
    "            loss.backward()\n",
    "            optimizer.step()\n",
    "            train_losses.append(loss.item())\n",
    "            \n",
    "            if batch_index % 100 == 0:\n",
    "                accuracy = (torch.argmax(batch_preds, dim=1)==batch_labels).float().mean()\n",
    "                print(f'epochs: {i}, train accuracy: {accuracy}')\n",
    "    return train_losses\n",
    "    \n",
    "def test(model, test_dataloader):\n",
    "    model.eval()\n",
    "    \n",
    "    corrects = torch.tensor([])\n",
    "    for batch_index, batch in enumerate(test_dataloader):\n",
    "        batch_imgs, batch_labels = batch[0], batch[1]\n",
    "        batch_preds = model(batch_imgs)\n",
    "        corrects = torch.cat((corrects, (torch.argmax(batch_preds, dim=1) == batch_labels)))\n",
    "    \n",
    "    accuracy = corrects.float().mean()\n",
    "    return accuracy, corrects"
   ]
  },
  {
   "cell_type": "markdown",
   "metadata": {},
   "source": [
    "## Wide Model\n",
    "\n",
    "\n",
    "- 200 channels\n",
    "- 3 layers"
   ]
  },
  {
   "cell_type": "code",
   "execution_count": 349,
   "metadata": {},
   "outputs": [],
   "source": [
    "class ChengMNIST(nn.Module):\n",
    "    def __init__(self):\n",
    "        super(ChengMNIST, self).__init__()\n",
    "        self._cv1 = nn.Conv2d(in_channels=1, out_channels=200, kernel_size=3, padding=1, stride=1, bias=True)        \n",
    "        self._cv2 = nn.Conv2d(in_channels=200, out_channels=1, kernel_size=3, padding=1, stride=1, bias=True)\n",
    "        \n",
    "        self._flatten1 = nn.Flatten()\n",
    "        self._linear1 = nn.Linear(in_features=7*7, out_features=10)\n",
    "        \n",
    "    def forward(self, x):\n",
    "        x = F.relu(F.max_pool2d(self._cv1(x), kernel_size=2))\n",
    "        x = F.relu(F.max_pool2d(self._cv2(x), kernel_size=2))       \n",
    "        x = self._flatten1(x)\n",
    "        x = self._linear1(x)\n",
    "        return x\n"
   ]
  },
  {
   "cell_type": "code",
   "execution_count": 350,
   "metadata": {
    "scrolled": true
   },
   "outputs": [
    {
     "name": "stdout",
     "output_type": "stream",
     "text": [
      "epochs: 0, train accuracy: 0.0625\n",
      "epochs: 0, train accuracy: 0.0625\n",
      "epochs: 0, train accuracy: 0.09375\n",
      "epochs: 0, train accuracy: 0.09375\n",
      "epochs: 0, train accuracy: 0.09375\n",
      "epochs: 0, train accuracy: 0.0625\n",
      "epochs: 0, train accuracy: 0.0625\n",
      "epochs: 0, train accuracy: 0.15625\n",
      "epochs: 0, train accuracy: 0.21875\n",
      "epochs: 0, train accuracy: 0.21875\n",
      "epochs: 0, train accuracy: 0.125\n",
      "epochs: 0, train accuracy: 0.03125\n",
      "epochs: 0, train accuracy: 0.09375\n",
      "epochs: 0, train accuracy: 0.125\n",
      "epochs: 0, train accuracy: 0.09375\n",
      "epochs: 0, train accuracy: 0.0625\n",
      "epochs: 0, train accuracy: 0.03125\n",
      "epochs: 0, train accuracy: 0.125\n",
      "epochs: 0, train accuracy: 0.09375\n",
      "epochs: 1, train accuracy: 0.21875\n",
      "epochs: 1, train accuracy: 0.25\n",
      "epochs: 1, train accuracy: 0.09375\n",
      "epochs: 1, train accuracy: 0.15625\n",
      "epochs: 1, train accuracy: 0.3125\n",
      "epochs: 1, train accuracy: 0.125\n",
      "epochs: 1, train accuracy: 0.15625\n",
      "epochs: 1, train accuracy: 0.3125\n",
      "epochs: 1, train accuracy: 0.21875\n",
      "epochs: 1, train accuracy: 0.21875\n",
      "epochs: 1, train accuracy: 0.53125\n",
      "epochs: 1, train accuracy: 0.53125\n",
      "epochs: 1, train accuracy: 0.4375\n",
      "epochs: 1, train accuracy: 0.375\n",
      "epochs: 1, train accuracy: 0.40625\n",
      "epochs: 1, train accuracy: 0.40625\n",
      "epochs: 1, train accuracy: 0.59375\n",
      "epochs: 1, train accuracy: 0.5625\n",
      "epochs: 1, train accuracy: 0.5625\n",
      "epochs: 2, train accuracy: 0.5625\n",
      "epochs: 2, train accuracy: 0.65625\n",
      "epochs: 2, train accuracy: 0.78125\n",
      "epochs: 2, train accuracy: 0.59375\n",
      "epochs: 2, train accuracy: 0.5625\n",
      "epochs: 2, train accuracy: 0.6875\n",
      "epochs: 2, train accuracy: 0.5625\n",
      "epochs: 2, train accuracy: 0.8125\n",
      "epochs: 2, train accuracy: 0.75\n",
      "epochs: 2, train accuracy: 0.71875\n",
      "epochs: 2, train accuracy: 0.75\n",
      "epochs: 2, train accuracy: 0.75\n",
      "epochs: 2, train accuracy: 0.78125\n",
      "epochs: 2, train accuracy: 0.6875\n",
      "epochs: 2, train accuracy: 0.84375\n",
      "epochs: 2, train accuracy: 0.78125\n",
      "epochs: 2, train accuracy: 0.8125\n",
      "epochs: 2, train accuracy: 0.8125\n",
      "epochs: 2, train accuracy: 0.8125\n",
      "epochs: 3, train accuracy: 0.8125\n",
      "epochs: 3, train accuracy: 0.8125\n",
      "epochs: 3, train accuracy: 0.84375\n",
      "epochs: 3, train accuracy: 0.90625\n",
      "epochs: 3, train accuracy: 0.84375\n",
      "epochs: 3, train accuracy: 0.8125\n",
      "epochs: 3, train accuracy: 0.84375\n",
      "epochs: 3, train accuracy: 0.78125\n",
      "epochs: 3, train accuracy: 0.78125\n",
      "epochs: 3, train accuracy: 0.875\n",
      "epochs: 3, train accuracy: 0.84375\n",
      "epochs: 3, train accuracy: 0.90625\n",
      "epochs: 3, train accuracy: 0.84375\n",
      "epochs: 3, train accuracy: 0.875\n",
      "epochs: 3, train accuracy: 0.8125\n",
      "epochs: 3, train accuracy: 0.875\n",
      "epochs: 3, train accuracy: 0.875\n",
      "epochs: 3, train accuracy: 0.8125\n",
      "epochs: 3, train accuracy: 0.875\n",
      "epochs: 4, train accuracy: 0.8125\n",
      "epochs: 4, train accuracy: 0.8125\n",
      "epochs: 4, train accuracy: 0.875\n",
      "epochs: 4, train accuracy: 0.9375\n",
      "epochs: 4, train accuracy: 0.90625\n",
      "epochs: 4, train accuracy: 0.9375\n",
      "epochs: 4, train accuracy: 0.9375\n",
      "epochs: 4, train accuracy: 0.875\n",
      "epochs: 4, train accuracy: 0.84375\n",
      "epochs: 4, train accuracy: 0.875\n",
      "epochs: 4, train accuracy: 0.90625\n",
      "epochs: 4, train accuracy: 0.84375\n",
      "epochs: 4, train accuracy: 0.90625\n",
      "epochs: 4, train accuracy: 0.9375\n",
      "epochs: 4, train accuracy: 0.9375\n",
      "epochs: 4, train accuracy: 0.90625\n",
      "epochs: 4, train accuracy: 0.875\n",
      "epochs: 4, train accuracy: 0.96875\n",
      "epochs: 4, train accuracy: 0.96875\n",
      "epochs: 5, train accuracy: 0.9375\n",
      "epochs: 5, train accuracy: 0.90625\n",
      "epochs: 5, train accuracy: 0.96875\n",
      "epochs: 5, train accuracy: 0.84375\n",
      "epochs: 5, train accuracy: 0.9375\n",
      "epochs: 5, train accuracy: 0.84375\n",
      "epochs: 5, train accuracy: 0.90625\n",
      "epochs: 5, train accuracy: 0.9375\n",
      "epochs: 5, train accuracy: 0.9375\n",
      "epochs: 5, train accuracy: 0.90625\n",
      "epochs: 5, train accuracy: 0.96875\n",
      "epochs: 5, train accuracy: 0.9375\n",
      "epochs: 5, train accuracy: 1.0\n",
      "epochs: 5, train accuracy: 0.9375\n",
      "epochs: 5, train accuracy: 0.75\n",
      "epochs: 5, train accuracy: 0.9375\n",
      "epochs: 5, train accuracy: 0.9375\n",
      "epochs: 5, train accuracy: 0.9375\n",
      "epochs: 5, train accuracy: 0.84375\n",
      "epochs: 6, train accuracy: 1.0\n",
      "epochs: 6, train accuracy: 0.875\n",
      "epochs: 6, train accuracy: 0.96875\n",
      "epochs: 6, train accuracy: 0.96875\n",
      "epochs: 6, train accuracy: 0.9375\n",
      "epochs: 6, train accuracy: 0.9375\n",
      "epochs: 6, train accuracy: 0.96875\n",
      "epochs: 6, train accuracy: 0.96875\n",
      "epochs: 6, train accuracy: 0.96875\n",
      "epochs: 6, train accuracy: 0.96875\n",
      "epochs: 6, train accuracy: 0.9375\n",
      "epochs: 6, train accuracy: 0.90625\n",
      "epochs: 6, train accuracy: 0.9375\n",
      "epochs: 6, train accuracy: 0.9375\n",
      "epochs: 6, train accuracy: 0.9375\n",
      "epochs: 6, train accuracy: 0.90625\n",
      "epochs: 6, train accuracy: 1.0\n",
      "epochs: 6, train accuracy: 1.0\n",
      "epochs: 6, train accuracy: 0.9375\n",
      "epochs: 7, train accuracy: 0.9375\n",
      "epochs: 7, train accuracy: 0.96875\n",
      "epochs: 7, train accuracy: 0.90625\n",
      "epochs: 7, train accuracy: 0.96875\n",
      "epochs: 7, train accuracy: 0.90625\n",
      "epochs: 7, train accuracy: 0.9375\n",
      "epochs: 7, train accuracy: 0.96875\n",
      "epochs: 7, train accuracy: 0.84375\n",
      "epochs: 7, train accuracy: 0.96875\n",
      "epochs: 7, train accuracy: 0.9375\n",
      "epochs: 7, train accuracy: 0.90625\n",
      "epochs: 7, train accuracy: 0.90625\n",
      "epochs: 7, train accuracy: 0.875\n",
      "epochs: 7, train accuracy: 0.90625\n",
      "epochs: 7, train accuracy: 0.875\n",
      "epochs: 7, train accuracy: 0.9375\n",
      "epochs: 7, train accuracy: 0.9375\n",
      "epochs: 7, train accuracy: 0.9375\n",
      "epochs: 7, train accuracy: 0.9375\n",
      "epochs: 8, train accuracy: 1.0\n",
      "epochs: 8, train accuracy: 0.9375\n",
      "epochs: 8, train accuracy: 0.875\n",
      "epochs: 8, train accuracy: 0.9375\n",
      "epochs: 8, train accuracy: 0.90625\n",
      "epochs: 8, train accuracy: 0.9375\n",
      "epochs: 8, train accuracy: 0.90625\n",
      "epochs: 8, train accuracy: 0.96875\n",
      "epochs: 8, train accuracy: 0.84375\n",
      "epochs: 8, train accuracy: 0.96875\n",
      "epochs: 8, train accuracy: 0.96875\n",
      "epochs: 8, train accuracy: 0.9375\n",
      "epochs: 8, train accuracy: 0.96875\n",
      "epochs: 8, train accuracy: 1.0\n",
      "epochs: 8, train accuracy: 0.875\n",
      "epochs: 8, train accuracy: 0.9375\n",
      "epochs: 8, train accuracy: 1.0\n",
      "epochs: 8, train accuracy: 0.9375\n",
      "epochs: 8, train accuracy: 0.84375\n",
      "epochs: 9, train accuracy: 0.9375\n",
      "epochs: 9, train accuracy: 0.96875\n",
      "epochs: 9, train accuracy: 1.0\n",
      "epochs: 9, train accuracy: 0.96875\n",
      "epochs: 9, train accuracy: 0.875\n",
      "epochs: 9, train accuracy: 0.96875\n",
      "epochs: 9, train accuracy: 1.0\n",
      "epochs: 9, train accuracy: 0.9375\n",
      "epochs: 9, train accuracy: 0.96875\n",
      "epochs: 9, train accuracy: 0.90625\n",
      "epochs: 9, train accuracy: 0.90625\n",
      "epochs: 9, train accuracy: 1.0\n",
      "epochs: 9, train accuracy: 0.9375\n",
      "epochs: 9, train accuracy: 1.0\n",
      "epochs: 9, train accuracy: 0.96875\n",
      "epochs: 9, train accuracy: 0.90625\n",
      "epochs: 9, train accuracy: 0.96875\n",
      "epochs: 9, train accuracy: 0.8125\n",
      "epochs: 9, train accuracy: 0.90625\n"
     ]
    },
    {
     "data": {
      "image/png": "[encoded data removed]",
      "text/plain": [
       "<Figure size 432x288 with 1 Axes>"
      ]
     },
     "metadata": {
      "needs_background": "light"
     },
     "output_type": "display_data"
    }
   ],
   "source": [
    "# model\n",
    "model = ChengMNIST()\n",
    "\n",
    "# optimizer\n",
    "optimizer = torch.optim.Adam(model.parameters(), lr=1e-4)\n",
    "\n",
    "# loss \n",
    "loss_func = nn.CrossEntropyLoss()\n",
    "\n",
    "train(model, train_dataloader, 10, optimizer, loss_func)\n",
    "   \n",
    "accuracy, corrects = test(model, test_dataloader)\n"
   ]
  },
  {
   "cell_type": "code",
   "execution_count": 353,
   "metadata": {},
   "outputs": [
    {
     "data": {
      "text/plain": [
       "tensor(0.9376)"
      ]
     },
     "execution_count": 353,
     "metadata": {},
     "output_type": "execute_result"
    }
   ],
   "source": [
    "accuracy"
   ]
  },
  {
   "cell_type": "code",
   "execution_count": 355,
   "metadata": {},
   "outputs": [
    {
     "data": {
      "image/png": "[encoded data removed]",
      "text/plain": [
       "<Figure size 432x288 with 1 Axes>"
      ]
     },
     "metadata": {
      "needs_background": "light"
     },
     "output_type": "display_data"
    }
   ],
   "source": [
    "plt.plot(list(range(len(corrects))), corrects.numpy())\n",
    "plt.show()"
   ]
  },
  {
   "cell_type": "markdown",
   "metadata": {},
   "source": [
    "## Deep Model\n",
    " - 5 layers\n",
    " - 10 channels\n",
    " "
   ]
  },
  {
   "cell_type": "code",
   "execution_count": 340,
   "metadata": {},
   "outputs": [],
   "source": [
    "class ChengMNIST2(nn.Module):\n",
    "    def __init__(self):\n",
    "        super(ChengMNIST2, self).__init__()\n",
    "        self._cv1 = nn.Conv2d(in_channels=1, out_channels=10, kernel_size=3, padding=1, stride=1, bias=True)       \n",
    "        self._cv2 = nn.Conv2d(in_channels=10, out_channels=10, kernel_size=3, padding=1, stride=1, bias=True)\n",
    "\n",
    "        self._flatten1 = nn.Flatten()\n",
    "        self._linear1 = nn.Linear(in_features=490, out_features=100)\n",
    "        self._linear2 = nn.Linear(in_features=100, out_features=50)\n",
    "        self._linear3 = nn.Linear(in_features=50, out_features=10)\n",
    "        \n",
    "    def forward(self, x):\n",
    "        x = F.relu(F.max_pool2d(self._cv1(x), kernel_size=2))\n",
    "        x = F.relu(F.max_pool2d(self._cv2(x), kernel_size=2))    \n",
    "              \n",
    "        x = self._flatten1(x)\n",
    "#         print(x.size())\n",
    "        \n",
    "        x = self._linear1(x)\n",
    "        x = self._linear2(x)\n",
    "        x = self._linear3(x)\n",
    "        return x"
   ]
  },
  {
   "cell_type": "code",
   "execution_count": 356,
   "metadata": {
    "scrolled": true
   },
   "outputs": [
    {
     "name": "stdout",
     "output_type": "stream",
     "text": [
      "epochs: 0, train accuracy: 0.15625\n",
      "epochs: 0, train accuracy: 0.84375\n",
      "epochs: 0, train accuracy: 0.84375\n",
      "epochs: 0, train accuracy: 0.75\n",
      "epochs: 0, train accuracy: 0.875\n",
      "epochs: 0, train accuracy: 0.875\n",
      "epochs: 0, train accuracy: 0.875\n",
      "epochs: 0, train accuracy: 0.9375\n",
      "epochs: 0, train accuracy: 0.875\n",
      "epochs: 0, train accuracy: 0.90625\n",
      "epochs: 0, train accuracy: 0.90625\n",
      "epochs: 0, train accuracy: 0.90625\n",
      "epochs: 0, train accuracy: 0.96875\n",
      "epochs: 0, train accuracy: 0.96875\n",
      "epochs: 0, train accuracy: 1.0\n",
      "epochs: 0, train accuracy: 0.9375\n",
      "epochs: 0, train accuracy: 0.96875\n",
      "epochs: 0, train accuracy: 1.0\n",
      "epochs: 0, train accuracy: 0.9375\n",
      "epochs: 1, train accuracy: 0.96875\n",
      "epochs: 1, train accuracy: 0.96875\n",
      "epochs: 1, train accuracy: 0.9375\n",
      "epochs: 1, train accuracy: 0.96875\n",
      "epochs: 1, train accuracy: 1.0\n",
      "epochs: 1, train accuracy: 0.9375\n",
      "epochs: 1, train accuracy: 0.875\n",
      "epochs: 1, train accuracy: 0.9375\n",
      "epochs: 1, train accuracy: 0.90625\n",
      "epochs: 1, train accuracy: 1.0\n",
      "epochs: 1, train accuracy: 0.96875\n",
      "epochs: 1, train accuracy: 0.9375\n",
      "epochs: 1, train accuracy: 0.9375\n",
      "epochs: 1, train accuracy: 0.9375\n",
      "epochs: 1, train accuracy: 0.90625\n",
      "epochs: 1, train accuracy: 1.0\n",
      "epochs: 1, train accuracy: 0.96875\n",
      "epochs: 1, train accuracy: 0.9375\n",
      "epochs: 1, train accuracy: 0.96875\n",
      "epochs: 2, train accuracy: 0.9375\n",
      "epochs: 2, train accuracy: 1.0\n",
      "epochs: 2, train accuracy: 1.0\n",
      "epochs: 2, train accuracy: 1.0\n",
      "epochs: 2, train accuracy: 0.9375\n",
      "epochs: 2, train accuracy: 1.0\n",
      "epochs: 2, train accuracy: 0.9375\n",
      "epochs: 2, train accuracy: 1.0\n",
      "epochs: 2, train accuracy: 1.0\n",
      "epochs: 2, train accuracy: 0.96875\n",
      "epochs: 2, train accuracy: 1.0\n",
      "epochs: 2, train accuracy: 0.875\n",
      "epochs: 2, train accuracy: 0.96875\n",
      "epochs: 2, train accuracy: 0.96875\n",
      "epochs: 2, train accuracy: 0.96875\n",
      "epochs: 2, train accuracy: 0.9375\n",
      "epochs: 2, train accuracy: 1.0\n",
      "epochs: 2, train accuracy: 1.0\n",
      "epochs: 2, train accuracy: 1.0\n",
      "epochs: 3, train accuracy: 1.0\n",
      "epochs: 3, train accuracy: 1.0\n",
      "epochs: 3, train accuracy: 0.96875\n",
      "epochs: 3, train accuracy: 1.0\n",
      "epochs: 3, train accuracy: 1.0\n",
      "epochs: 3, train accuracy: 1.0\n",
      "epochs: 3, train accuracy: 1.0\n",
      "epochs: 3, train accuracy: 0.96875\n",
      "epochs: 3, train accuracy: 1.0\n",
      "epochs: 3, train accuracy: 0.96875\n",
      "epochs: 3, train accuracy: 0.96875\n",
      "epochs: 3, train accuracy: 0.96875\n",
      "epochs: 3, train accuracy: 0.96875\n",
      "epochs: 3, train accuracy: 0.96875\n",
      "epochs: 3, train accuracy: 0.96875\n",
      "epochs: 3, train accuracy: 0.9375\n",
      "epochs: 3, train accuracy: 0.96875\n",
      "epochs: 3, train accuracy: 1.0\n",
      "epochs: 3, train accuracy: 0.96875\n",
      "epochs: 4, train accuracy: 1.0\n",
      "epochs: 4, train accuracy: 1.0\n",
      "epochs: 4, train accuracy: 1.0\n",
      "epochs: 4, train accuracy: 1.0\n",
      "epochs: 4, train accuracy: 0.96875\n",
      "epochs: 4, train accuracy: 1.0\n",
      "epochs: 4, train accuracy: 1.0\n",
      "epochs: 4, train accuracy: 0.96875\n",
      "epochs: 4, train accuracy: 1.0\n",
      "epochs: 4, train accuracy: 0.96875\n",
      "epochs: 4, train accuracy: 1.0\n",
      "epochs: 4, train accuracy: 0.96875\n",
      "epochs: 4, train accuracy: 1.0\n",
      "epochs: 4, train accuracy: 1.0\n",
      "epochs: 4, train accuracy: 1.0\n",
      "epochs: 4, train accuracy: 0.96875\n",
      "epochs: 4, train accuracy: 0.96875\n",
      "epochs: 4, train accuracy: 0.96875\n",
      "epochs: 4, train accuracy: 0.9375\n",
      "epochs: 5, train accuracy: 0.96875\n",
      "epochs: 5, train accuracy: 0.9375\n",
      "epochs: 5, train accuracy: 1.0\n",
      "epochs: 5, train accuracy: 0.96875\n",
      "epochs: 5, train accuracy: 0.96875\n",
      "epochs: 5, train accuracy: 1.0\n",
      "epochs: 5, train accuracy: 1.0\n",
      "epochs: 5, train accuracy: 1.0\n",
      "epochs: 5, train accuracy: 1.0\n",
      "epochs: 5, train accuracy: 0.9375\n",
      "epochs: 5, train accuracy: 0.9375\n",
      "epochs: 5, train accuracy: 1.0\n",
      "epochs: 5, train accuracy: 0.96875\n",
      "epochs: 5, train accuracy: 0.90625\n",
      "epochs: 5, train accuracy: 1.0\n",
      "epochs: 5, train accuracy: 1.0\n",
      "epochs: 5, train accuracy: 1.0\n",
      "epochs: 5, train accuracy: 1.0\n",
      "epochs: 5, train accuracy: 1.0\n",
      "epochs: 6, train accuracy: 1.0\n",
      "epochs: 6, train accuracy: 1.0\n",
      "epochs: 6, train accuracy: 1.0\n",
      "epochs: 6, train accuracy: 0.96875\n",
      "epochs: 6, train accuracy: 1.0\n",
      "epochs: 6, train accuracy: 1.0\n",
      "epochs: 6, train accuracy: 1.0\n",
      "epochs: 6, train accuracy: 0.96875\n",
      "epochs: 6, train accuracy: 0.9375\n",
      "epochs: 6, train accuracy: 0.96875\n",
      "epochs: 6, train accuracy: 0.96875\n",
      "epochs: 6, train accuracy: 0.96875\n",
      "epochs: 6, train accuracy: 1.0\n",
      "epochs: 6, train accuracy: 0.96875\n",
      "epochs: 6, train accuracy: 1.0\n",
      "epochs: 6, train accuracy: 0.9375\n",
      "epochs: 6, train accuracy: 0.96875\n",
      "epochs: 6, train accuracy: 0.96875\n",
      "epochs: 6, train accuracy: 1.0\n",
      "epochs: 7, train accuracy: 1.0\n",
      "epochs: 7, train accuracy: 1.0\n",
      "epochs: 7, train accuracy: 0.96875\n",
      "epochs: 7, train accuracy: 0.96875\n",
      "epochs: 7, train accuracy: 1.0\n",
      "epochs: 7, train accuracy: 1.0\n",
      "epochs: 7, train accuracy: 1.0\n",
      "epochs: 7, train accuracy: 1.0\n",
      "epochs: 7, train accuracy: 0.96875\n",
      "epochs: 7, train accuracy: 1.0\n",
      "epochs: 7, train accuracy: 0.96875\n",
      "epochs: 7, train accuracy: 1.0\n",
      "epochs: 7, train accuracy: 0.96875\n",
      "epochs: 7, train accuracy: 1.0\n",
      "epochs: 7, train accuracy: 1.0\n",
      "epochs: 7, train accuracy: 1.0\n",
      "epochs: 7, train accuracy: 1.0\n",
      "epochs: 7, train accuracy: 1.0\n",
      "epochs: 7, train accuracy: 0.96875\n",
      "epochs: 8, train accuracy: 0.9375\n",
      "epochs: 8, train accuracy: 1.0\n",
      "epochs: 8, train accuracy: 1.0\n",
      "epochs: 8, train accuracy: 0.9375\n",
      "epochs: 8, train accuracy: 1.0\n",
      "epochs: 8, train accuracy: 0.96875\n",
      "epochs: 8, train accuracy: 0.96875\n",
      "epochs: 8, train accuracy: 1.0\n",
      "epochs: 8, train accuracy: 1.0\n",
      "epochs: 8, train accuracy: 0.96875\n",
      "epochs: 8, train accuracy: 0.9375\n",
      "epochs: 8, train accuracy: 1.0\n",
      "epochs: 8, train accuracy: 1.0\n",
      "epochs: 8, train accuracy: 0.96875\n",
      "epochs: 8, train accuracy: 1.0\n",
      "epochs: 8, train accuracy: 0.96875\n",
      "epochs: 8, train accuracy: 1.0\n",
      "epochs: 8, train accuracy: 1.0\n",
      "epochs: 8, train accuracy: 0.96875\n",
      "epochs: 9, train accuracy: 0.90625\n",
      "epochs: 9, train accuracy: 1.0\n",
      "epochs: 9, train accuracy: 1.0\n",
      "epochs: 9, train accuracy: 1.0\n",
      "epochs: 9, train accuracy: 0.90625\n",
      "epochs: 9, train accuracy: 0.96875\n",
      "epochs: 9, train accuracy: 1.0\n",
      "epochs: 9, train accuracy: 0.96875\n",
      "epochs: 9, train accuracy: 1.0\n",
      "epochs: 9, train accuracy: 1.0\n",
      "epochs: 9, train accuracy: 1.0\n",
      "epochs: 9, train accuracy: 1.0\n",
      "epochs: 9, train accuracy: 1.0\n",
      "epochs: 9, train accuracy: 0.96875\n",
      "epochs: 9, train accuracy: 1.0\n",
      "epochs: 9, train accuracy: 1.0\n",
      "epochs: 9, train accuracy: 1.0\n",
      "epochs: 9, train accuracy: 1.0\n",
      "epochs: 9, train accuracy: 1.0\n"
     ]
    },
    {
     "data": {
      "text/plain": [
       "tensor(0.9839)"
      ]
     },
     "execution_count": 356,
     "metadata": {},
     "output_type": "execute_result"
    }
   ],
   "source": [
    "# model\n",
    "model = ChengMNIST2()\n",
    "\n",
    "# optimizer\n",
    "optimizer = torch.optim.Adam(model.parameters(), lr=1e-4)\n",
    "\n",
    "# loss \n",
    "loss_func = nn.CrossEntropyLoss()\n",
    "\n",
    "train_losses = train(model, train_dataloader, 10, optimizer, loss_func)\n",
    "accuracy, corrects = test(model, test_dataloader)\n",
    "accuracy"
   ]
  },
  {
   "cell_type": "code",
   "execution_count": 359,
   "metadata": {},
   "outputs": [
    {
     "data": {
      "text/plain": [
       "Text(0, 0.5, 'negative log likelihood(cross entropy) loss')"
      ]
     },
     "execution_count": 359,
     "metadata": {},
     "output_type": "execute_result"
    },
    {
     "data": {
      "image/png": "[encoded data removed]",
      "text/plain": [
       "<Figure size 432x288 with 1 Axes>"
      ]
     },
     "metadata": {
      "needs_background": "light"
     },
     "output_type": "display_data"
    }
   ],
   "source": [
    "fig = plt.figure()\n",
    "plt.plot(list(range(len(train_losses))), train_losses)\n",
    "plt.legend(['Train Loss'], loc='upper right')\n",
    "plt.xlabel('training batch')\n",
    "plt.ylabel('negative log likelihood(cross entropy) loss')"
   ]
  },
  {
   "cell_type": "code",
   "execution_count": null,
   "metadata": {},
   "outputs": [],
   "source": []
  }
 ],
 "metadata": {
  "kernelspec": {
   "display_name": "fastai",
   "language": "python",
   "name": "fastai"
  },
  "language_info": {
   "codemirror_mode": {
    "name": "ipython",
    "version": 3
   },
   "file_extension": ".py",
   "mimetype": "text/x-python",
   "name": "python",
   "nbconvert_exporter": "python",
   "pygments_lexer": "ipython3",
   "version": "3.8.2"
  }
 },
 "nbformat": 4,
 "nbformat_minor": 4
}
